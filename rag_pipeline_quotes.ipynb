{
 "cells": [
  {
   "cell_type": "code",
   "execution_count": 2,
   "id": "48f230dd",
   "metadata": {},
   "outputs": [
    {
     "name": "stderr",
     "output_type": "stream",
     "text": [
      "c:\\Users\\yasha\\Desktop\\rag-model-project\\.venv\\Lib\\site-packages\\tqdm\\auto.py:21: TqdmWarning: IProgress not found. Please update jupyter and ipywidgets. See https://ipywidgets.readthedocs.io/en/stable/user_install.html\n",
      "  from .autonotebook import tqdm as notebook_tqdm\n"
     ]
    }
   ],
   "source": [
    "import pandas as pd\n",
    "import faiss\n",
    "import numpy as np\n",
    "from sentence_transformers import SentenceTransformer\n",
    "import openai\n",
    "import os\n"
   ]
  },
  {
   "cell_type": "code",
   "execution_count": 3,
   "id": "38f4d62f",
   "metadata": {},
   "outputs": [],
   "source": [
    "# Load cleaned data and fine-tuned model\n",
    "df = pd.read_csv(\"cleaned_quotes.csv\")\n",
    "model = SentenceTransformer(\"./model/fine_tuned_quote_model\")\n"
   ]
  },
  {
   "cell_type": "code",
   "execution_count": 4,
   "id": "8438aba6",
   "metadata": {},
   "outputs": [
    {
     "name": "stderr",
     "output_type": "stream",
     "text": [
      "Batches: 100%|██████████| 79/79 [00:28<00:00,  2.73it/s]\n"
     ]
    }
   ],
   "source": [
    "# Create embeddings for all quotes\n",
    "corpus = df[\"combined\"].tolist()\n",
    "corpus_embeddings = model.encode(corpus, convert_to_numpy=True, show_progress_bar=True)\n"
   ]
  },
  {
   "cell_type": "code",
   "execution_count": 5,
   "id": "3809a12a",
   "metadata": {},
   "outputs": [
    {
     "name": "stdout",
     "output_type": "stream",
     "text": [
      "FAISS index built with 2508 entries\n"
     ]
    }
   ],
   "source": [
    "embedding_dim = corpus_embeddings.shape[1]\n",
    "index = faiss.IndexFlatL2(embedding_dim)\n",
    "index.add(corpus_embeddings)\n",
    "print(f\"FAISS index built with {index.ntotal} entries\")\n"
   ]
  },
  {
   "cell_type": "code",
   "execution_count": 6,
   "id": "260395e3",
   "metadata": {},
   "outputs": [],
   "source": [
    "# Function to perform retrieval\n",
    "def retrieve_quotes(query, top_k=5):\n",
    "    query_embedding = model.encode([query], convert_to_numpy=True)\n",
    "    scores, indices = index.search(query_embedding, top_k)\n",
    "    results = []\n",
    "    for idx, score in zip(indices[0], scores[0]):\n",
    "        results.append({\n",
    "            \"quote\": df.iloc[idx][\"quote\"],\n",
    "            \"author\": df.iloc[idx][\"author\"],\n",
    "            \"tags\": df.iloc[idx][\"tags\"],\n",
    "            \"score\": float(score),\n",
    "        })\n",
    "    return results\n"
   ]
  },
  {
   "cell_type": "code",
   "execution_count": 15,
   "id": "ecd7e444",
   "metadata": {},
   "outputs": [],
   "source": [
    "from openai import OpenAI\n",
    "import os\n",
    "\n",
    "def generate_answer(query, context_quotes):\n",
    "    # Initialize client using environment variable\n",
    "    client = OpenAI(api_key=os.getenv(\"OPENAI_API_KEY\"))\n",
    "\n",
    "    # Create a prompt using retrieved quotes\n",
    "    context_text = \"\\n\".join([f\"- {q['quote']} ({q['author']})\" for q in context_quotes])\n",
    "    \n",
    "    prompt = f\"\"\"\n",
    "You are a helpful assistant. A user asked the following query:\n",
    "\"{query}\"\n",
    "\n",
    "Here are some relevant quotes:\n",
    "{context_text}\n",
    "\n",
    "Based on these quotes, provide a helpful and relevant response or summary:\n",
    "\"\"\"\n",
    "\n",
    "    # Call the LLM\n",
    "    response = client.chat.completions.create(\n",
    "        model=\"gpt-4o-mini\",\n",
    "        messages=[\n",
    "            {\"role\": \"system\", \"content\": \"You are a helpful assistant.\"},\n",
    "            {\"role\": \"user\", \"content\": prompt}\n",
    "        ]\n",
    "    )\n",
    "\n",
    "    return response.choices[0].message.content.strip()\n"
   ]
  },
  {
   "cell_type": "code",
   "execution_count": 16,
   "id": "5caae9b0",
   "metadata": {},
   "outputs": [
    {
     "name": "stdout",
     "output_type": "stream",
     "text": [
      "\n",
      "Top Retrieved Quotes:\n",
      "- “i hate men who are afraid of women's strength.” (anaã¯s nin,)\n",
      "- “i hate to hear you talk about all women as if they were fine ladies instead of rational creatures. none of us want to be in calm waters all our lives.” (jane austen,)\n",
      "- “well-behaved women seldom make history.” (laurel thatcher ulrich,)\n",
      "- “a woman is like a tea bag; you never know how strong it is until it's in hot water.” (eleanor roosevelt)\n",
      "- “better to be strong than pretty and useless.” (lilith saintcrow,)\n"
     ]
    }
   ],
   "source": [
    "query = \"quotes about resilience by women authors\"\n",
    "retrieved = retrieve_quotes(query)\n",
    "print(\"\\nTop Retrieved Quotes:\")\n",
    "for r in retrieved:\n",
    "    print(f\"- {r['quote']} ({r['author']})\")\n"
   ]
  },
  {
   "cell_type": "code",
   "execution_count": 17,
   "id": "22a86d91",
   "metadata": {},
   "outputs": [
    {
     "name": "stdout",
     "output_type": "stream",
     "text": [
      "\n",
      "Generated Answer:\n",
      "Resilience is a powerful theme often echoed by women authors throughout history. Here are some impactful quotes that capture the essence of resilience as experienced and expressed by women:\n",
      "\n",
      "1. **Anaïs Nin** highlights the strength of women, stating, “I hate men who are afraid of women's strength.” This quote challenges societal norms and celebrates the fortitude inherent in women.\n",
      "\n",
      "2. **Jane Austen** reminds us that women are not merely to be viewed as delicate beings. She asserts, “I hate to hear you talk about all women as if they were fine ladies instead of rational creatures. None of us want to be in calm waters all our lives.” Here, she acknowledges the desire for challenge and growth.\n",
      "\n",
      "3. **Laurel Thatcher Ulrich** provocatively notes, “Well-behaved women seldom make history,” indicating that resilience often requires breaking the mold and pushing against societal expectations.\n",
      "\n",
      "4. **Eleanor Roosevelt** uses the metaphor of a tea bag to express strength, saying, “A woman is like a tea bag; you never know how strong it is until it's in hot water.” This illustrates how challenges reveal true strength.\n",
      "\n",
      "5. **Lilith Saintcrow** succinctly puts it, “Better to be strong than pretty and useless,” emphasizing the value of strength over superficial traits.\n",
      "\n",
      "These quotes collectively reflect a deep understanding of resilience, showcasing how women have embraced their strength, confronted societal norms, and flourished even in adversity.\n"
     ]
    }
   ],
   "source": [
    "# Generate an answer\n",
    "answer = generate_answer(query, retrieved)\n",
    "print(\"\\nGenerated Answer:\")\n",
    "print(answer)\n"
   ]
  },
  {
   "cell_type": "code",
   "execution_count": 18,
   "id": "1b31c727",
   "metadata": {},
   "outputs": [],
   "source": [
    "# Step 4: RAG Evaluation with RAGAS\n",
    "examples = [\n",
    "    {\n",
    "        \"question\": query,\n",
    "        \"answer\": answer,\n",
    "        \"contexts\": [r[\"quote\"] for r in retrieved],\n",
    "        \"ground_truth\": \"Quotes about resilience from women authors emphasizing strength through adversity.\"\n",
    "    }\n",
    "]\n"
   ]
  },
  {
   "cell_type": "code",
   "execution_count": 20,
   "id": "4bed41d2",
   "metadata": {},
   "outputs": [],
   "source": [
    "from datasets import Dataset\n",
    "\n",
    "dataset = Dataset.from_list(examples)\n"
   ]
  },
  {
   "cell_type": "code",
   "execution_count": 25,
   "id": "2d1c1b81",
   "metadata": {},
   "outputs": [
    {
     "name": "stderr",
     "output_type": "stream",
     "text": [
      "Evaluating: 100%|██████████| 4/4 [00:23<00:00,  5.79s/it]\n"
     ]
    }
   ],
   "source": [
    "# Evaluate with RAGAS\n",
    "from ragas.metrics import faithfulness, answer_relevancy, context_precision, context_recall\n",
    "from ragas import evaluate\n",
    "\n",
    "results = evaluate(\n",
    "    dataset,\n",
    "    metrics=[faithfulness, answer_relevancy, context_precision, context_recall]\n",
    ")\n",
    "\n"
   ]
  },
  {
   "cell_type": "code",
   "execution_count": 26,
   "id": "9bf9b647",
   "metadata": {},
   "outputs": [
    {
     "name": "stdout",
     "output_type": "stream",
     "text": [
      "\n",
      "RAG Evaluation Results:\n",
      "{'faithfulness': 1.0000, 'answer_relevancy': 0.9650, 'context_precision': 0.2500, 'context_recall': 1.0000}\n"
     ]
    }
   ],
   "source": [
    "print(\"\\nRAG Evaluation Results:\")\n",
    "print(results)\n"
   ]
  },
  {
   "cell_type": "code",
   "execution_count": 27,
   "id": "3c30953a",
   "metadata": {},
   "outputs": [
    {
     "name": "stdout",
     "output_type": "stream",
     "text": [
      "Collecting streamlit\n",
      "  Using cached streamlit-1.45.1-py3-none-any.whl.metadata (8.9 kB)\n",
      "Collecting altair<6,>=4.0 (from streamlit)\n",
      "  Using cached altair-5.5.0-py3-none-any.whl.metadata (11 kB)\n",
      "Collecting blinker<2,>=1.5.0 (from streamlit)\n",
      "  Using cached blinker-1.9.0-py3-none-any.whl.metadata (1.6 kB)\n",
      "Collecting cachetools<6,>=4.0 (from streamlit)\n",
      "  Using cached cachetools-5.5.2-py3-none-any.whl.metadata (5.4 kB)\n",
      "Collecting click<9,>=7.0 (from streamlit)\n",
      "  Using cached click-8.2.1-py3-none-any.whl.metadata (2.5 kB)\n",
      "Requirement already satisfied: numpy<3,>=1.23 in c:\\users\\yasha\\desktop\\rag-model-project\\.venv\\lib\\site-packages (from streamlit) (2.3.0)\n",
      "Requirement already satisfied: packaging<25,>=20 in c:\\users\\yasha\\desktop\\rag-model-project\\.venv\\lib\\site-packages (from streamlit) (24.2)\n",
      "Requirement already satisfied: pandas<3,>=1.4.0 in c:\\users\\yasha\\desktop\\rag-model-project\\.venv\\lib\\site-packages (from streamlit) (2.3.0)\n",
      "Requirement already satisfied: pillow<12,>=7.1.0 in c:\\users\\yasha\\desktop\\rag-model-project\\.venv\\lib\\site-packages (from streamlit) (11.2.1)\n",
      "Collecting protobuf<7,>=3.20 (from streamlit)\n",
      "  Using cached protobuf-6.31.1-cp310-abi3-win_amd64.whl.metadata (593 bytes)\n",
      "Requirement already satisfied: pyarrow>=7.0 in c:\\users\\yasha\\desktop\\rag-model-project\\.venv\\lib\\site-packages (from streamlit) (20.0.0)\n",
      "Requirement already satisfied: requests<3,>=2.27 in c:\\users\\yasha\\desktop\\rag-model-project\\.venv\\lib\\site-packages (from streamlit) (2.32.4)\n",
      "Requirement already satisfied: tenacity<10,>=8.1.0 in c:\\users\\yasha\\desktop\\rag-model-project\\.venv\\lib\\site-packages (from streamlit) (9.1.2)\n",
      "Collecting toml<2,>=0.10.1 (from streamlit)\n",
      "  Using cached toml-0.10.2-py2.py3-none-any.whl.metadata (7.1 kB)\n",
      "Requirement already satisfied: typing-extensions<5,>=4.4.0 in c:\\users\\yasha\\desktop\\rag-model-project\\.venv\\lib\\site-packages (from streamlit) (4.14.0)\n",
      "Collecting watchdog<7,>=2.1.5 (from streamlit)\n",
      "  Using cached watchdog-6.0.0-py3-none-win_amd64.whl.metadata (44 kB)\n",
      "Collecting gitpython!=3.1.19,<4,>=3.0.7 (from streamlit)\n",
      "  Using cached GitPython-3.1.44-py3-none-any.whl.metadata (13 kB)\n",
      "Collecting pydeck<1,>=0.8.0b4 (from streamlit)\n",
      "  Using cached pydeck-0.9.1-py2.py3-none-any.whl.metadata (4.1 kB)\n",
      "Requirement already satisfied: tornado<7,>=6.0.3 in c:\\users\\yasha\\desktop\\rag-model-project\\.venv\\lib\\site-packages (from streamlit) (6.5.1)\n",
      "Requirement already satisfied: jinja2 in c:\\users\\yasha\\desktop\\rag-model-project\\.venv\\lib\\site-packages (from altair<6,>=4.0->streamlit) (3.1.6)\n",
      "Collecting jsonschema>=3.0 (from altair<6,>=4.0->streamlit)\n",
      "  Using cached jsonschema-4.24.0-py3-none-any.whl.metadata (7.8 kB)\n",
      "Collecting narwhals>=1.14.2 (from altair<6,>=4.0->streamlit)\n",
      "  Downloading narwhals-1.42.1-py3-none-any.whl.metadata (11 kB)\n",
      "Requirement already satisfied: colorama in c:\\users\\yasha\\desktop\\rag-model-project\\.venv\\lib\\site-packages (from click<9,>=7.0->streamlit) (0.4.6)\n",
      "Collecting gitdb<5,>=4.0.1 (from gitpython!=3.1.19,<4,>=3.0.7->streamlit)\n",
      "  Using cached gitdb-4.0.12-py3-none-any.whl.metadata (1.2 kB)\n",
      "Collecting smmap<6,>=3.0.1 (from gitdb<5,>=4.0.1->gitpython!=3.1.19,<4,>=3.0.7->streamlit)\n",
      "  Using cached smmap-5.0.2-py3-none-any.whl.metadata (4.3 kB)\n",
      "Requirement already satisfied: python-dateutil>=2.8.2 in c:\\users\\yasha\\desktop\\rag-model-project\\.venv\\lib\\site-packages (from pandas<3,>=1.4.0->streamlit) (2.9.0.post0)\n",
      "Requirement already satisfied: pytz>=2020.1 in c:\\users\\yasha\\desktop\\rag-model-project\\.venv\\lib\\site-packages (from pandas<3,>=1.4.0->streamlit) (2025.2)\n",
      "Requirement already satisfied: tzdata>=2022.7 in c:\\users\\yasha\\desktop\\rag-model-project\\.venv\\lib\\site-packages (from pandas<3,>=1.4.0->streamlit) (2025.2)\n",
      "Requirement already satisfied: charset_normalizer<4,>=2 in c:\\users\\yasha\\desktop\\rag-model-project\\.venv\\lib\\site-packages (from requests<3,>=2.27->streamlit) (3.4.2)\n",
      "Requirement already satisfied: idna<4,>=2.5 in c:\\users\\yasha\\desktop\\rag-model-project\\.venv\\lib\\site-packages (from requests<3,>=2.27->streamlit) (3.10)\n",
      "Requirement already satisfied: urllib3<3,>=1.21.1 in c:\\users\\yasha\\desktop\\rag-model-project\\.venv\\lib\\site-packages (from requests<3,>=2.27->streamlit) (2.4.0)\n",
      "Requirement already satisfied: certifi>=2017.4.17 in c:\\users\\yasha\\desktop\\rag-model-project\\.venv\\lib\\site-packages (from requests<3,>=2.27->streamlit) (2025.6.15)\n",
      "Requirement already satisfied: MarkupSafe>=2.0 in c:\\users\\yasha\\desktop\\rag-model-project\\.venv\\lib\\site-packages (from jinja2->altair<6,>=4.0->streamlit) (3.0.2)\n",
      "Requirement already satisfied: attrs>=22.2.0 in c:\\users\\yasha\\desktop\\rag-model-project\\.venv\\lib\\site-packages (from jsonschema>=3.0->altair<6,>=4.0->streamlit) (25.3.0)\n",
      "Collecting jsonschema-specifications>=2023.03.6 (from jsonschema>=3.0->altair<6,>=4.0->streamlit)\n",
      "  Using cached jsonschema_specifications-2025.4.1-py3-none-any.whl.metadata (2.9 kB)\n",
      "Collecting referencing>=0.28.4 (from jsonschema>=3.0->altair<6,>=4.0->streamlit)\n",
      "  Using cached referencing-0.36.2-py3-none-any.whl.metadata (2.8 kB)\n",
      "Collecting rpds-py>=0.7.1 (from jsonschema>=3.0->altair<6,>=4.0->streamlit)\n",
      "  Using cached rpds_py-0.25.1-cp312-cp312-win_amd64.whl.metadata (4.2 kB)\n",
      "Requirement already satisfied: six>=1.5 in c:\\users\\yasha\\desktop\\rag-model-project\\.venv\\lib\\site-packages (from python-dateutil>=2.8.2->pandas<3,>=1.4.0->streamlit) (1.17.0)\n",
      "Using cached streamlit-1.45.1-py3-none-any.whl (9.9 MB)\n",
      "Using cached altair-5.5.0-py3-none-any.whl (731 kB)\n",
      "Using cached blinker-1.9.0-py3-none-any.whl (8.5 kB)\n",
      "Using cached cachetools-5.5.2-py3-none-any.whl (10 kB)\n",
      "Using cached click-8.2.1-py3-none-any.whl (102 kB)\n",
      "Using cached GitPython-3.1.44-py3-none-any.whl (207 kB)\n",
      "Using cached gitdb-4.0.12-py3-none-any.whl (62 kB)\n",
      "Using cached protobuf-6.31.1-cp310-abi3-win_amd64.whl (435 kB)\n",
      "Using cached pydeck-0.9.1-py2.py3-none-any.whl (6.9 MB)\n",
      "Using cached smmap-5.0.2-py3-none-any.whl (24 kB)\n",
      "Using cached toml-0.10.2-py2.py3-none-any.whl (16 kB)\n",
      "Using cached watchdog-6.0.0-py3-none-win_amd64.whl (79 kB)\n",
      "Using cached jsonschema-4.24.0-py3-none-any.whl (88 kB)\n",
      "Using cached jsonschema_specifications-2025.4.1-py3-none-any.whl (18 kB)\n",
      "Downloading narwhals-1.42.1-py3-none-any.whl (359 kB)\n",
      "Using cached referencing-0.36.2-py3-none-any.whl (26 kB)\n",
      "Using cached rpds_py-0.25.1-cp312-cp312-win_amd64.whl (235 kB)\n",
      "Installing collected packages: watchdog, toml, smmap, rpds-py, protobuf, narwhals, click, cachetools, blinker, referencing, pydeck, gitdb, jsonschema-specifications, gitpython, jsonschema, altair, streamlit\n",
      "\n",
      "   -- -------------------------------------  1/17 [toml]\n",
      "   --------- ------------------------------  4/17 [protobuf]\n",
      "   --------- ------------------------------  4/17 [protobuf]\n",
      "   ----------- ----------------------------  5/17 [narwhals]\n",
      "   ----------- ----------------------------  5/17 [narwhals]\n",
      "   ----------- ----------------------------  5/17 [narwhals]\n",
      "   ----------- ----------------------------  5/17 [narwhals]\n",
      "   ----------- ----------------------------  5/17 [narwhals]\n",
      "   ----------- ----------------------------  5/17 [narwhals]\n",
      "   -------------- -------------------------  6/17 [click]\n",
      "   --------------------- ------------------  9/17 [referencing]\n",
      "   ----------------------- ---------------- 10/17 [pydeck]\n",
      "   ----------------------- ---------------- 10/17 [pydeck]\n",
      "   ------------------------- -------------- 11/17 [gitdb]\n",
      "   ------------------------------ --------- 13/17 [gitpython]\n",
      "   -------------------------------- ------- 14/17 [jsonschema]\n",
      "   -------------------------------- ------- 14/17 [jsonschema]\n",
      "   ----------------------------------- ---- 15/17 [altair]\n",
      "   ----------------------------------- ---- 15/17 [altair]\n",
      "   ------------------------------------- -- 16/17 [streamlit]\n",
      "   ------------------------------------- -- 16/17 [streamlit]\n",
      "   ------------------------------------- -- 16/17 [streamlit]\n",
      "   ------------------------------------- -- 16/17 [streamlit]\n",
      "   ------------------------------------- -- 16/17 [streamlit]\n",
      "   ------------------------------------- -- 16/17 [streamlit]\n",
      "   ------------------------------------- -- 16/17 [streamlit]\n",
      "   ------------------------------------- -- 16/17 [streamlit]\n",
      "   ------------------------------------- -- 16/17 [streamlit]\n",
      "   ------------------------------------- -- 16/17 [streamlit]\n",
      "   ------------------------------------- -- 16/17 [streamlit]\n",
      "   ------------------------------------- -- 16/17 [streamlit]\n",
      "   ---------------------------------------- 17/17 [streamlit]\n",
      "\n",
      "Successfully installed altair-5.5.0 blinker-1.9.0 cachetools-5.5.2 click-8.2.1 gitdb-4.0.12 gitpython-3.1.44 jsonschema-4.24.0 jsonschema-specifications-2025.4.1 narwhals-1.42.1 protobuf-6.31.1 pydeck-0.9.1 referencing-0.36.2 rpds-py-0.25.1 smmap-5.0.2 streamlit-1.45.1 toml-0.10.2 watchdog-6.0.0\n",
      "Note: you may need to restart the kernel to use updated packages.\n"
     ]
    }
   ],
   "source": [
    "pip install streamlit \n"
   ]
  },
  {
   "cell_type": "code",
   "execution_count": null,
   "id": "a372cf06",
   "metadata": {},
   "outputs": [],
   "source": []
  }
 ],
 "metadata": {
  "kernelspec": {
   "display_name": ".venv",
   "language": "python",
   "name": "python3"
  },
  "language_info": {
   "codemirror_mode": {
    "name": "ipython",
    "version": 3
   },
   "file_extension": ".py",
   "mimetype": "text/x-python",
   "name": "python",
   "nbconvert_exporter": "python",
   "pygments_lexer": "ipython3",
   "version": "3.12.10"
  }
 },
 "nbformat": 4,
 "nbformat_minor": 5
}
