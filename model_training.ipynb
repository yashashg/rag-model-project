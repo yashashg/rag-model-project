{
 "cells": [
  {
   "cell_type": "code",
   "execution_count": 1,
   "id": "c3f889bc",
   "metadata": {},
   "outputs": [
    {
     "name": "stderr",
     "output_type": "stream",
     "text": [
      "c:\\Users\\yasha\\Desktop\\rag-model-project\\.venv\\Lib\\site-packages\\tqdm\\auto.py:21: TqdmWarning: IProgress not found. Please update jupyter and ipywidgets. See https://ipywidgets.readthedocs.io/en/stable/user_install.html\n",
      "  from .autonotebook import tqdm as notebook_tqdm\n"
     ]
    }
   ],
   "source": [
    "# Step 1: Install and Import Required Libraries\n",
    "from datasets import load_dataset\n",
    "import pandas as pd\n",
    "import numpy as np\n",
    "\n"
   ]
  },
  {
   "cell_type": "code",
   "execution_count": 2,
   "id": "c3025ba1",
   "metadata": {},
   "outputs": [],
   "source": [
    "# Load the Abirate/english_quotes dataset from HuggingFace\n",
    "raw_dataset = load_dataset(\"Abirate/english_quotes\")\n",
    "df = pd.DataFrame(raw_dataset[\"train\"])\n"
   ]
  },
  {
   "cell_type": "code",
   "execution_count": 3,
   "id": "79069c34",
   "metadata": {},
   "outputs": [
    {
     "data": {
      "text/html": [
       "<div>\n",
       "<style scoped>\n",
       "    .dataframe tbody tr th:only-of-type {\n",
       "        vertical-align: middle;\n",
       "    }\n",
       "\n",
       "    .dataframe tbody tr th {\n",
       "        vertical-align: top;\n",
       "    }\n",
       "\n",
       "    .dataframe thead th {\n",
       "        text-align: right;\n",
       "    }\n",
       "</style>\n",
       "<table border=\"1\" class=\"dataframe\">\n",
       "  <thead>\n",
       "    <tr style=\"text-align: right;\">\n",
       "      <th></th>\n",
       "      <th>quote</th>\n",
       "      <th>author</th>\n",
       "      <th>tags</th>\n",
       "    </tr>\n",
       "  </thead>\n",
       "  <tbody>\n",
       "    <tr>\n",
       "      <th>0</th>\n",
       "      <td>“Be yourself; everyone else is already taken.”</td>\n",
       "      <td>Oscar Wilde</td>\n",
       "      <td>[be-yourself, gilbert-perreira, honesty, inspi...</td>\n",
       "    </tr>\n",
       "    <tr>\n",
       "      <th>1</th>\n",
       "      <td>“I'm selfish, impatient and a little insecure....</td>\n",
       "      <td>Marilyn Monroe</td>\n",
       "      <td>[best, life, love, mistakes, out-of-control, t...</td>\n",
       "    </tr>\n",
       "    <tr>\n",
       "      <th>2</th>\n",
       "      <td>“Two things are infinite: the universe and hum...</td>\n",
       "      <td>Albert Einstein</td>\n",
       "      <td>[human-nature, humor, infinity, philosophy, sc...</td>\n",
       "    </tr>\n",
       "    <tr>\n",
       "      <th>3</th>\n",
       "      <td>“So many books, so little time.”</td>\n",
       "      <td>Frank Zappa</td>\n",
       "      <td>[books, humor]</td>\n",
       "    </tr>\n",
       "    <tr>\n",
       "      <th>4</th>\n",
       "      <td>“A room without books is like a body without a...</td>\n",
       "      <td>Marcus Tullius Cicero</td>\n",
       "      <td>[books, simile, soul]</td>\n",
       "    </tr>\n",
       "  </tbody>\n",
       "</table>\n",
       "</div>"
      ],
      "text/plain": [
       "                                               quote                 author  \\\n",
       "0     “Be yourself; everyone else is already taken.”            Oscar Wilde   \n",
       "1  “I'm selfish, impatient and a little insecure....         Marilyn Monroe   \n",
       "2  “Two things are infinite: the universe and hum...        Albert Einstein   \n",
       "3                   “So many books, so little time.”            Frank Zappa   \n",
       "4  “A room without books is like a body without a...  Marcus Tullius Cicero   \n",
       "\n",
       "                                                tags  \n",
       "0  [be-yourself, gilbert-perreira, honesty, inspi...  \n",
       "1  [best, life, love, mistakes, out-of-control, t...  \n",
       "2  [human-nature, humor, infinity, philosophy, sc...  \n",
       "3                                     [books, humor]  \n",
       "4                              [books, simile, soul]  "
      ]
     },
     "execution_count": 3,
     "metadata": {},
     "output_type": "execute_result"
    }
   ],
   "source": [
    "df.head()\n"
   ]
  },
  {
   "cell_type": "code",
   "execution_count": 4,
   "id": "9706306e",
   "metadata": {},
   "outputs": [
    {
     "name": "stdout",
     "output_type": "stream",
     "text": [
      "\n",
      "Missing values:\n",
      "quote     0\n",
      "author    0\n",
      "tags      0\n",
      "dtype: int64\n"
     ]
    }
   ],
   "source": [
    "# Check for missing values\n",
    "print(\"\\nMissing values:\")\n",
    "print(df.isnull().sum())\n"
   ]
  },
  {
   "cell_type": "code",
   "execution_count": 5,
   "id": "08ceadad",
   "metadata": {},
   "outputs": [],
   "source": [
    "# Lowercase all textual fields for uniformity\n",
    "df[\"quote\"] = df[\"quote\"].str.lower()\n",
    "df[\"author\"] = df[\"author\"].str.lower()\n",
    "df[\"tags\"] = df[\"tags\"].apply(lambda tags: [t.lower() for t in tags])\n"
   ]
  },
  {
   "cell_type": "code",
   "execution_count": 6,
   "id": "8094668d",
   "metadata": {},
   "outputs": [],
   "source": [
    "# Optional: create a column that merges all text for easier embedding later\n",
    "df[\"combined\"] = df.apply(lambda row: row[\"quote\"] + \" - \" + row[\"author\"] + \" [\" + \", \".join(row[\"tags\"]) + \"]\", axis=1)\n"
   ]
  },
  {
   "cell_type": "code",
   "execution_count": 7,
   "id": "d5989bae",
   "metadata": {},
   "outputs": [],
   "source": [
    "# Save cleaned dataset \n",
    "df.to_csv(\"cleaned_quotes.csv\", index=False)\n"
   ]
  },
  {
   "cell_type": "code",
   "execution_count": 8,
   "id": "e9d7f6bc",
   "metadata": {},
   "outputs": [
    {
     "name": "stdout",
     "output_type": "stream",
     "text": [
      "\n",
      "Cleaned dataset info:\n",
      "<class 'pandas.core.frame.DataFrame'>\n",
      "RangeIndex: 2508 entries, 0 to 2507\n",
      "Data columns (total 4 columns):\n",
      " #   Column    Non-Null Count  Dtype \n",
      "---  ------    --------------  ----- \n",
      " 0   quote     2508 non-null   object\n",
      " 1   author    2508 non-null   object\n",
      " 2   tags      2508 non-null   object\n",
      " 3   combined  2508 non-null   object\n",
      "dtypes: object(4)\n",
      "memory usage: 78.5+ KB\n",
      "None\n"
     ]
    },
    {
     "data": {
      "text/html": [
       "<div>\n",
       "<style scoped>\n",
       "    .dataframe tbody tr th:only-of-type {\n",
       "        vertical-align: middle;\n",
       "    }\n",
       "\n",
       "    .dataframe tbody tr th {\n",
       "        vertical-align: top;\n",
       "    }\n",
       "\n",
       "    .dataframe thead th {\n",
       "        text-align: right;\n",
       "    }\n",
       "</style>\n",
       "<table border=\"1\" class=\"dataframe\">\n",
       "  <thead>\n",
       "    <tr style=\"text-align: right;\">\n",
       "      <th></th>\n",
       "      <th>quote</th>\n",
       "      <th>author</th>\n",
       "      <th>tags</th>\n",
       "    </tr>\n",
       "  </thead>\n",
       "  <tbody>\n",
       "    <tr>\n",
       "      <th>571</th>\n",
       "      <td>“it is not the critic who counts; not the man ...</td>\n",
       "      <td>theodore roosevelt</td>\n",
       "      <td>[inspirational, politics, presidential]</td>\n",
       "    </tr>\n",
       "    <tr>\n",
       "      <th>1875</th>\n",
       "      <td>“a wonderful fact to reflect upon, that every ...</td>\n",
       "      <td>charles dickens,</td>\n",
       "      <td>[communication, psychology]</td>\n",
       "    </tr>\n",
       "    <tr>\n",
       "      <th>869</th>\n",
       "      <td>“books are the plane, and the train, and the r...</td>\n",
       "      <td>anna quindlen,</td>\n",
       "      <td>[books, journey, reading, travel]</td>\n",
       "    </tr>\n",
       "    <tr>\n",
       "      <th>1010</th>\n",
       "      <td>“laters, baby.”</td>\n",
       "      <td>e.l. james,</td>\n",
       "      <td>[christina-grey, e-l-james, fifty-shades-of-grey]</td>\n",
       "    </tr>\n",
       "    <tr>\n",
       "      <th>846</th>\n",
       "      <td>“let no man pull you so low as to hate him.”</td>\n",
       "      <td>martin luther king jr.,</td>\n",
       "      <td>[hatred, wisdom]</td>\n",
       "    </tr>\n",
       "  </tbody>\n",
       "</table>\n",
       "</div>"
      ],
      "text/plain": [
       "                                                  quote  \\\n",
       "571   “it is not the critic who counts; not the man ...   \n",
       "1875  “a wonderful fact to reflect upon, that every ...   \n",
       "869   “books are the plane, and the train, and the r...   \n",
       "1010                                    “laters, baby.”   \n",
       "846        “let no man pull you so low as to hate him.”   \n",
       "\n",
       "                       author  \\\n",
       "571        theodore roosevelt   \n",
       "1875         charles dickens,   \n",
       "869            anna quindlen,   \n",
       "1010              e.l. james,   \n",
       "846   martin luther king jr.,   \n",
       "\n",
       "                                                   tags  \n",
       "571             [inspirational, politics, presidential]  \n",
       "1875                        [communication, psychology]  \n",
       "869                   [books, journey, reading, travel]  \n",
       "1010  [christina-grey, e-l-james, fifty-shades-of-grey]  \n",
       "846                                    [hatred, wisdom]  "
      ]
     },
     "execution_count": 8,
     "metadata": {},
     "output_type": "execute_result"
    }
   ],
   "source": [
    "print(\"\\nCleaned dataset info:\")\n",
    "print(df.info())\n",
    "df.sample(5)[[\"quote\", \"author\", \"tags\"]]\n"
   ]
  },
  {
   "cell_type": "code",
   "execution_count": 9,
   "id": "aed4a19b",
   "metadata": {},
   "outputs": [],
   "source": [
    "import pandas as pd\n",
    "from sentence_transformers import SentenceTransformer, InputExample, losses, models\n",
    "from torch.utils.data import DataLoader\n",
    "import random\n"
   ]
  },
  {
   "cell_type": "code",
   "execution_count": 10,
   "id": "17973742",
   "metadata": {},
   "outputs": [],
   "source": [
    "# Load the cleaned dataset\n",
    "\n",
    "df = pd.read_csv(\"cleaned_quotes.csv\")\n"
   ]
  },
  {
   "cell_type": "code",
   "execution_count": 11,
   "id": "f9203f80",
   "metadata": {},
   "outputs": [],
   "source": [
    "# Generate synthetic query–quote pairs for training\n",
    "examples = []\n",
    "for _, row in df.iterrows():\n",
    "    tags_str = \", \".join(row[\"tags\"].strip(\"[]\").replace(\"'\", \"\").split(\", \"))\n",
    "    synthetic_query = f\"quotes about {tags_str} by {row['author']}\"\n",
    "    examples.append(InputExample(texts=[synthetic_query, row[\"quote\"]]))\n",
    "\n"
   ]
  },
  {
   "cell_type": "code",
   "execution_count": 12,
   "id": "b4541b5a",
   "metadata": {},
   "outputs": [],
   "source": [
    "# Initialize a pre-trained sentence embedding model\n",
    "model_name = \"sentence-transformers/all-MiniLM-L6-v2\"\n",
    "model = SentenceTransformer(model_name)\n"
   ]
  },
  {
   "cell_type": "code",
   "execution_count": 13,
   "id": "b33fcdb4",
   "metadata": {},
   "outputs": [],
   "source": [
    "# Create a DataLoader for training\n",
    "dataloader = DataLoader(examples, shuffle=True, batch_size=16)\n"
   ]
  },
  {
   "cell_type": "code",
   "execution_count": 14,
   "id": "2c75c299",
   "metadata": {},
   "outputs": [],
   "source": [
    "# Use MultipleNegativesRankingLoss for contrastive fine-tuning\n",
    "train_loss = losses.MultipleNegativesRankingLoss(model)\n"
   ]
  },
  {
   "cell_type": "code",
   "execution_count": 15,
   "id": "b9f55296",
   "metadata": {},
   "outputs": [
    {
     "name": "stderr",
     "output_type": "stream",
     "text": [
      "                                                                     \r"
     ]
    },
    {
     "data": {
      "text/html": [
       "\n",
       "    <div>\n",
       "      \n",
       "      <progress value='157' max='157' style='width:300px; height:20px; vertical-align: middle;'></progress>\n",
       "      [157/157 04:06, Epoch 1/1]\n",
       "    </div>\n",
       "    <table border=\"1\" class=\"dataframe\">\n",
       "  <thead>\n",
       " <tr style=\"text-align: left;\">\n",
       "      <th>Step</th>\n",
       "      <th>Training Loss</th>\n",
       "    </tr>\n",
       "  </thead>\n",
       "  <tbody>\n",
       "  </tbody>\n",
       "</table><p>"
      ],
      "text/plain": [
       "<IPython.core.display.HTML object>"
      ]
     },
     "metadata": {},
     "output_type": "display_data"
    }
   ],
   "source": [
    "# Fine-tune the model\n",
    "model.fit(\n",
    "    train_objectives=[(dataloader, train_loss)],\n",
    "    epochs=1,  # Increase to 2–3 if training longer\n",
    "    warmup_steps=100\n",
    ")\n"
   ]
  },
  {
   "cell_type": "code",
   "execution_count": 16,
   "id": "7935161d",
   "metadata": {},
   "outputs": [
    {
     "name": "stdout",
     "output_type": "stream",
     "text": [
      "\n",
      "✅ Fine-tuned model saved at 'fine_tuned_quote_model'\n"
     ]
    }
   ],
   "source": [
    "model.save(\"./model/fine_tuned_quote_model\")\n",
    "print(\"\\n✅ Fine-tuned model saved at 'fine_tuned_quote_model'\")\n"
   ]
  },
  {
   "cell_type": "code",
   "execution_count": 20,
   "id": "6ca2270f",
   "metadata": {},
   "outputs": [
    {
     "name": "stdout",
     "output_type": "stream",
     "text": [
      "Note: you may need to restart the kernel to use updated packages.\n"
     ]
    }
   ],
   "source": [
    "pip freeze > requirements.txt\n"
   ]
  },
  {
   "cell_type": "code",
   "execution_count": null,
   "id": "96eed8f9",
   "metadata": {},
   "outputs": [],
   "source": []
  }
 ],
 "metadata": {
  "kernelspec": {
   "display_name": ".venv",
   "language": "python",
   "name": "python3"
  },
  "language_info": {
   "codemirror_mode": {
    "name": "ipython",
    "version": 3
   },
   "file_extension": ".py",
   "mimetype": "text/x-python",
   "name": "python",
   "nbconvert_exporter": "python",
   "pygments_lexer": "ipython3",
   "version": "3.12.10"
  }
 },
 "nbformat": 4,
 "nbformat_minor": 5
}
